{
 "cells": [
  {
   "cell_type": "code",
   "execution_count": 33,
   "metadata": {
    "collapsed": true
   },
   "outputs": [],
   "source": [
    "import pandas as pd\n",
    "import seaborn as sns\n",
    "import numpy as np\n",
    "from matplotlib import pyplot as plt"
   ]
  },
  {
   "cell_type": "code",
   "execution_count": 3,
   "metadata": {
    "collapsed": true
   },
   "outputs": [],
   "source": [
    "data=pd.read_csv('./game_data.csv')"
   ]
  },
  {
   "cell_type": "markdown",
   "metadata": {},
   "source": [
    "# data exploration"
   ]
  },
  {
   "cell_type": "code",
   "execution_count": 35,
   "metadata": {},
   "outputs": [
    {
     "data": {
      "text/html": [
       "<div>\n",
       "<style scoped>\n",
       "    .dataframe tbody tr th:only-of-type {\n",
       "        vertical-align: middle;\n",
       "    }\n",
       "\n",
       "    .dataframe tbody tr th {\n",
       "        vertical-align: top;\n",
       "    }\n",
       "\n",
       "    .dataframe thead th {\n",
       "        text-align: right;\n",
       "    }\n",
       "</style>\n",
       "<table border=\"1\" class=\"dataframe\">\n",
       "  <thead>\n",
       "    <tr style=\"text-align: right;\">\n",
       "      <th></th>\n",
       "      <th>rank</th>\n",
       "      <th>bgg_url</th>\n",
       "      <th>game_id</th>\n",
       "      <th>names</th>\n",
       "      <th>min_players</th>\n",
       "      <th>max_players</th>\n",
       "      <th>avg_time</th>\n",
       "      <th>min_time</th>\n",
       "      <th>max_time</th>\n",
       "      <th>year</th>\n",
       "      <th>avg_rating</th>\n",
       "      <th>geek_rating</th>\n",
       "      <th>num_votes</th>\n",
       "      <th>image_url</th>\n",
       "      <th>age</th>\n",
       "      <th>mechanic</th>\n",
       "      <th>owned</th>\n",
       "      <th>category</th>\n",
       "      <th>designer</th>\n",
       "      <th>weight</th>\n",
       "    </tr>\n",
       "  </thead>\n",
       "  <tbody>\n",
       "    <tr>\n",
       "      <th>0</th>\n",
       "      <td>1</td>\n",
       "      <td>https://boardgamegeek.com/boardgame/174430/glo...</td>\n",
       "      <td>174430</td>\n",
       "      <td>Gloomhaven</td>\n",
       "      <td>1</td>\n",
       "      <td>4</td>\n",
       "      <td>120</td>\n",
       "      <td>60</td>\n",
       "      <td>120</td>\n",
       "      <td>2017</td>\n",
       "      <td>8.98893</td>\n",
       "      <td>8.61858</td>\n",
       "      <td>15376</td>\n",
       "      <td>https://cf.geekdo-images.com/original/img/lDN3...</td>\n",
       "      <td>12</td>\n",
       "      <td>Action / Movement Programming, Co-operative Pl...</td>\n",
       "      <td>25928</td>\n",
       "      <td>Adventure, Exploration, Fantasy, Fighting, Min...</td>\n",
       "      <td>Isaac Childres</td>\n",
       "      <td>3.7543</td>\n",
       "    </tr>\n",
       "    <tr>\n",
       "      <th>1</th>\n",
       "      <td>2</td>\n",
       "      <td>https://boardgamegeek.com/boardgame/161936/pan...</td>\n",
       "      <td>161936</td>\n",
       "      <td>Pandemic Legacy: Season 1</td>\n",
       "      <td>2</td>\n",
       "      <td>4</td>\n",
       "      <td>60</td>\n",
       "      <td>60</td>\n",
       "      <td>60</td>\n",
       "      <td>2015</td>\n",
       "      <td>8.66140</td>\n",
       "      <td>8.50163</td>\n",
       "      <td>26063</td>\n",
       "      <td>https://cf.geekdo-images.com/original/img/P_Sw...</td>\n",
       "      <td>13</td>\n",
       "      <td>Action Point Allowance System, Co-operative Pl...</td>\n",
       "      <td>41605</td>\n",
       "      <td>Environmental, Medical</td>\n",
       "      <td>Rob Daviau, Matt Leacock</td>\n",
       "      <td>2.8210</td>\n",
       "    </tr>\n",
       "    <tr>\n",
       "      <th>2</th>\n",
       "      <td>3</td>\n",
       "      <td>https://boardgamegeek.com/boardgame/182028/thr...</td>\n",
       "      <td>182028</td>\n",
       "      <td>Through the Ages: A New Story of Civilization</td>\n",
       "      <td>2</td>\n",
       "      <td>4</td>\n",
       "      <td>240</td>\n",
       "      <td>180</td>\n",
       "      <td>240</td>\n",
       "      <td>2015</td>\n",
       "      <td>8.60673</td>\n",
       "      <td>8.30183</td>\n",
       "      <td>12352</td>\n",
       "      <td>https://cf.geekdo-images.com/original/img/1d2h...</td>\n",
       "      <td>14</td>\n",
       "      <td>Action Point Allowance System, Auction/Bidding...</td>\n",
       "      <td>15848</td>\n",
       "      <td>Card Game, Civilization, Economic</td>\n",
       "      <td>Vlaada Chvátil</td>\n",
       "      <td>4.3678</td>\n",
       "    </tr>\n",
       "    <tr>\n",
       "      <th>3</th>\n",
       "      <td>4</td>\n",
       "      <td>https://boardgamegeek.com/boardgame/167791/ter...</td>\n",
       "      <td>167791</td>\n",
       "      <td>Terraforming Mars</td>\n",
       "      <td>1</td>\n",
       "      <td>5</td>\n",
       "      <td>120</td>\n",
       "      <td>120</td>\n",
       "      <td>120</td>\n",
       "      <td>2016</td>\n",
       "      <td>8.38461</td>\n",
       "      <td>8.19914</td>\n",
       "      <td>26004</td>\n",
       "      <td>https://cf.geekdo-images.com/original/img/o8z_...</td>\n",
       "      <td>12</td>\n",
       "      <td>Card Drafting, Hand Management, Set Collection...</td>\n",
       "      <td>33340</td>\n",
       "      <td>Economic, Environmental, Industry / Manufactur...</td>\n",
       "      <td>Jacob Fryxelius</td>\n",
       "      <td>3.2456</td>\n",
       "    </tr>\n",
       "    <tr>\n",
       "      <th>4</th>\n",
       "      <td>5</td>\n",
       "      <td>https://boardgamegeek.com/boardgame/12333/twil...</td>\n",
       "      <td>12333</td>\n",
       "      <td>Twilight Struggle</td>\n",
       "      <td>2</td>\n",
       "      <td>2</td>\n",
       "      <td>180</td>\n",
       "      <td>120</td>\n",
       "      <td>180</td>\n",
       "      <td>2005</td>\n",
       "      <td>8.33954</td>\n",
       "      <td>8.19787</td>\n",
       "      <td>31301</td>\n",
       "      <td>https://cf.geekdo-images.com/original/img/ZPnn...</td>\n",
       "      <td>13</td>\n",
       "      <td>Area Control / Area Influence, Campaign / Batt...</td>\n",
       "      <td>42952</td>\n",
       "      <td>Modern Warfare, Political, Wargame</td>\n",
       "      <td>Ananda Gupta, Jason Matthews</td>\n",
       "      <td>3.5518</td>\n",
       "    </tr>\n",
       "  </tbody>\n",
       "</table>\n",
       "</div>"
      ],
      "text/plain": [
       "   rank                                            bgg_url  game_id  \\\n",
       "0     1  https://boardgamegeek.com/boardgame/174430/glo...   174430   \n",
       "1     2  https://boardgamegeek.com/boardgame/161936/pan...   161936   \n",
       "2     3  https://boardgamegeek.com/boardgame/182028/thr...   182028   \n",
       "3     4  https://boardgamegeek.com/boardgame/167791/ter...   167791   \n",
       "4     5  https://boardgamegeek.com/boardgame/12333/twil...    12333   \n",
       "\n",
       "                                           names  min_players  max_players  \\\n",
       "0                                     Gloomhaven            1            4   \n",
       "1                      Pandemic Legacy: Season 1            2            4   \n",
       "2  Through the Ages: A New Story of Civilization            2            4   \n",
       "3                              Terraforming Mars            1            5   \n",
       "4                              Twilight Struggle            2            2   \n",
       "\n",
       "   avg_time  min_time  max_time  year  avg_rating  geek_rating  num_votes  \\\n",
       "0       120        60       120  2017     8.98893      8.61858      15376   \n",
       "1        60        60        60  2015     8.66140      8.50163      26063   \n",
       "2       240       180       240  2015     8.60673      8.30183      12352   \n",
       "3       120       120       120  2016     8.38461      8.19914      26004   \n",
       "4       180       120       180  2005     8.33954      8.19787      31301   \n",
       "\n",
       "                                           image_url  age  \\\n",
       "0  https://cf.geekdo-images.com/original/img/lDN3...   12   \n",
       "1  https://cf.geekdo-images.com/original/img/P_Sw...   13   \n",
       "2  https://cf.geekdo-images.com/original/img/1d2h...   14   \n",
       "3  https://cf.geekdo-images.com/original/img/o8z_...   12   \n",
       "4  https://cf.geekdo-images.com/original/img/ZPnn...   13   \n",
       "\n",
       "                                            mechanic  owned  \\\n",
       "0  Action / Movement Programming, Co-operative Pl...  25928   \n",
       "1  Action Point Allowance System, Co-operative Pl...  41605   \n",
       "2  Action Point Allowance System, Auction/Bidding...  15848   \n",
       "3  Card Drafting, Hand Management, Set Collection...  33340   \n",
       "4  Area Control / Area Influence, Campaign / Batt...  42952   \n",
       "\n",
       "                                            category  \\\n",
       "0  Adventure, Exploration, Fantasy, Fighting, Min...   \n",
       "1                             Environmental, Medical   \n",
       "2                  Card Game, Civilization, Economic   \n",
       "3  Economic, Environmental, Industry / Manufactur...   \n",
       "4                 Modern Warfare, Political, Wargame   \n",
       "\n",
       "                       designer  weight  \n",
       "0                Isaac Childres  3.7543  \n",
       "1      Rob Daviau, Matt Leacock  2.8210  \n",
       "2                Vlaada Chvátil  4.3678  \n",
       "3               Jacob Fryxelius  3.2456  \n",
       "4  Ananda Gupta, Jason Matthews  3.5518  "
      ]
     },
     "execution_count": 35,
     "metadata": {},
     "output_type": "execute_result"
    }
   ],
   "source": [
    "data.head(5)"
   ]
  },
  {
   "cell_type": "markdown",
   "metadata": {},
   "source": [
    "## bad data"
   ]
  },
  {
   "cell_type": "markdown",
   "metadata": {},
   "source": [
    "### code"
   ]
  },
  {
   "cell_type": "markdown",
   "metadata": {
    "heading_collapsed": true
   },
   "source": [
    "#### check missing value"
   ]
  },
  {
   "cell_type": "code",
   "execution_count": 5,
   "metadata": {
    "hidden": true
   },
   "outputs": [
    {
     "name": "stdout",
     "output_type": "stream",
     "text": [
      "rank           0\n",
      "category       0\n",
      "owned          0\n",
      "mechanic       0\n",
      "age            0\n",
      "num_votes      0\n",
      "geek_rating    0\n",
      "avg_rating     0\n",
      "designer       0\n",
      "year           0\n",
      "min_time       0\n",
      "avg_time       0\n",
      "max_players    0\n",
      "min_players    0\n",
      "names          0\n",
      "game_id        0\n",
      "bgg_url        0\n",
      "max_time       0\n",
      "weight         0\n",
      "image_url      1\n",
      "dtype: int64\n"
     ]
    }
   ],
   "source": [
    "print(data.isnull().sum().sort_values())\n",
    "data['image_url']=data['image_url'].fillna('missing')"
   ]
  },
  {
   "cell_type": "markdown",
   "metadata": {
    "heading_collapsed": true
   },
   "source": [
    "#### check some variables"
   ]
  },
  {
   "cell_type": "code",
   "execution_count": 6,
   "metadata": {
    "hidden": true
   },
   "outputs": [
    {
     "data": {
      "text/plain": [
       "Cosmic Encounter                                                               4\n",
       "Samurai                                                                        3\n",
       "Lord of the Rings: The Confrontation                                           2\n",
       "Hellas                                                                         2\n",
       "Santorini                                                                      2\n",
       "Crimson Skies                                                                  2\n",
       "Tales of the Arabian Nights                                                    2\n",
       "Axis & Allies                                                                  2\n",
       "Barbarossa                                                                     2\n",
       "Saga                                                                           2\n",
       "Founding Fathers                                                               2\n",
       "Fresh Fish                                                                     2\n",
       "Cry Havoc                                                                      2\n",
       "Elfenroads                                                                     2\n",
       "Citadels                                                                       2\n",
       "Conquest of the Empire                                                         2\n",
       "Arkham Horror                                                                  2\n",
       "Fortress America                                                               2\n",
       "Aladdin's Dragons                                                              2\n",
       "Around the World in 80 Days                                                    2\n",
       "Cartagena                                                                      2\n",
       "Blackbeard                                                                     2\n",
       "Warrior Knights                                                                2\n",
       "Mogul                                                                          2\n",
       "Wizard                                                                         2\n",
       "This Town Ain't Big Enough for the 2-4 of Us                                   1\n",
       "Ancient Terrible Things                                                        1\n",
       "Medieval Merchant                                                              1\n",
       "Corporate America                                                              1\n",
       "Ghost Chase                                                                    1\n",
       "                                                                              ..\n",
       "Chicago Express                                                                1\n",
       "Exodus: Proxima Centauri                                                       1\n",
       "Sentinel Tactics: The Flame of Freedom                                         1\n",
       "Poseidon                                                                       1\n",
       "Android: Netrunner                                                             1\n",
       "Tournay                                                                        1\n",
       "Rialto                                                                         1\n",
       "Flick 'em Up!: Dead of Winter                                                  1\n",
       "Star Wars: Legion                                                              1\n",
       "Code of Nine                                                                   1\n",
       "One Night Ultimate Alien                                                       1\n",
       "Sherlock Holmes Consulting Detective: Jack the Ripper & West End Adventures    1\n",
       "Battle for Germany                                                             1\n",
       "Piratoons                                                                      1\n",
       "Mafia de Cuba                                                                  1\n",
       "Runewars Miniatures Game                                                       1\n",
       "Flying Colors                                                                  1\n",
       "Dragonfire                                                                     1\n",
       "New Bedford                                                                    1\n",
       "This Terrible Sound                                                            1\n",
       "Axis & Allies: Battle of the Bulge                                             1\n",
       "Hands in the Sea                                                               1\n",
       "Gulo Gulo                                                                      1\n",
       "Gold West                                                                      1\n",
       "Parthenon: Rise of the Aegean                                                  1\n",
       "Run, Fight, or Die!                                                            1\n",
       "Dungeons & Dragons: The Legend of Drizzt Board Game                            1\n",
       "Hack Trick                                                                     1\n",
       "Waterloo 1815: Fallen Eagles                                                   1\n",
       "Neptun                                                                         1\n",
       "Name: names, Length: 4971, dtype: int64"
      ]
     },
     "execution_count": 6,
     "metadata": {},
     "output_type": "execute_result"
    }
   ],
   "source": [
    "data['names'].value_counts()"
   ]
  },
  {
   "cell_type": "code",
   "execution_count": 7,
   "metadata": {
    "hidden": true
   },
   "outputs": [
    {
     "data": {
      "text/html": [
       "<div>\n",
       "<style scoped>\n",
       "    .dataframe tbody tr th:only-of-type {\n",
       "        vertical-align: middle;\n",
       "    }\n",
       "\n",
       "    .dataframe tbody tr th {\n",
       "        vertical-align: top;\n",
       "    }\n",
       "\n",
       "    .dataframe thead th {\n",
       "        text-align: right;\n",
       "    }\n",
       "</style>\n",
       "<table border=\"1\" class=\"dataframe\">\n",
       "  <thead>\n",
       "    <tr style=\"text-align: right;\">\n",
       "      <th></th>\n",
       "      <th>rank</th>\n",
       "      <th>bgg_url</th>\n",
       "      <th>game_id</th>\n",
       "      <th>names</th>\n",
       "      <th>min_players</th>\n",
       "      <th>max_players</th>\n",
       "      <th>avg_time</th>\n",
       "      <th>min_time</th>\n",
       "      <th>max_time</th>\n",
       "      <th>year</th>\n",
       "      <th>avg_rating</th>\n",
       "      <th>geek_rating</th>\n",
       "      <th>num_votes</th>\n",
       "      <th>image_url</th>\n",
       "      <th>age</th>\n",
       "      <th>mechanic</th>\n",
       "      <th>owned</th>\n",
       "      <th>category</th>\n",
       "      <th>designer</th>\n",
       "      <th>weight</th>\n",
       "    </tr>\n",
       "  </thead>\n",
       "  <tbody>\n",
       "    <tr>\n",
       "      <th>99</th>\n",
       "      <td>100</td>\n",
       "      <td>https://boardgamegeek.com/boardgame/39463/cosm...</td>\n",
       "      <td>39463</td>\n",
       "      <td>Cosmic Encounter</td>\n",
       "      <td>3</td>\n",
       "      <td>5</td>\n",
       "      <td>120</td>\n",
       "      <td>60</td>\n",
       "      <td>120</td>\n",
       "      <td>2008</td>\n",
       "      <td>7.58087</td>\n",
       "      <td>7.42682</td>\n",
       "      <td>22001</td>\n",
       "      <td>https://cf.geekdo-images.com/original/img/SUTj...</td>\n",
       "      <td>12</td>\n",
       "      <td>Hand Management, Partnerships, Take That, Vari...</td>\n",
       "      <td>26591</td>\n",
       "      <td>Bluffing, Negotiation, Science Fiction, Space ...</td>\n",
       "      <td>Bill Eberle, Jack Kittredge, Bill Norton, Pete...</td>\n",
       "      <td>2.5576</td>\n",
       "    </tr>\n",
       "    <tr>\n",
       "      <th>816</th>\n",
       "      <td>816</td>\n",
       "      <td>https://boardgamegeek.com/boardgame/15/cosmic-...</td>\n",
       "      <td>15</td>\n",
       "      <td>Cosmic Encounter</td>\n",
       "      <td>2</td>\n",
       "      <td>6</td>\n",
       "      <td>90</td>\n",
       "      <td>90</td>\n",
       "      <td>90</td>\n",
       "      <td>1977</td>\n",
       "      <td>6.92400</td>\n",
       "      <td>6.54173</td>\n",
       "      <td>3697</td>\n",
       "      <td>https://cf.geekdo-images.com/original/img/5koT...</td>\n",
       "      <td>12</td>\n",
       "      <td>Hand Management, Variable Player Powers</td>\n",
       "      <td>4072</td>\n",
       "      <td>Bluffing, Negotiation, Science Fiction</td>\n",
       "      <td>Bill Eberle, Jack Kittredge, Bill Norton, Pete...</td>\n",
       "      <td>2.3705</td>\n",
       "    </tr>\n",
       "    <tr>\n",
       "      <th>1381</th>\n",
       "      <td>1382</td>\n",
       "      <td>https://boardgamegeek.com/boardgame/40529/cosm...</td>\n",
       "      <td>40529</td>\n",
       "      <td>Cosmic Encounter</td>\n",
       "      <td>3</td>\n",
       "      <td>6</td>\n",
       "      <td>60</td>\n",
       "      <td>60</td>\n",
       "      <td>60</td>\n",
       "      <td>1991</td>\n",
       "      <td>7.18291</td>\n",
       "      <td>6.24120</td>\n",
       "      <td>912</td>\n",
       "      <td>https://cf.geekdo-images.com/original/img/sIhS...</td>\n",
       "      <td>0</td>\n",
       "      <td>Variable Player Powers</td>\n",
       "      <td>1350</td>\n",
       "      <td>Bluffing, Card Game, Science Fiction</td>\n",
       "      <td>Bill Eberle, Jack Kittredge, Bill Norton, Pete...</td>\n",
       "      <td>2.6393</td>\n",
       "    </tr>\n",
       "    <tr>\n",
       "      <th>2340</th>\n",
       "      <td>2341</td>\n",
       "      <td>https://boardgamegeek.com/boardgame/40531/cosm...</td>\n",
       "      <td>40531</td>\n",
       "      <td>Cosmic Encounter</td>\n",
       "      <td>2</td>\n",
       "      <td>4</td>\n",
       "      <td>60</td>\n",
       "      <td>60</td>\n",
       "      <td>60</td>\n",
       "      <td>2000</td>\n",
       "      <td>6.39733</td>\n",
       "      <td>5.93775</td>\n",
       "      <td>1162</td>\n",
       "      <td>https://cf.geekdo-images.com/original/img/pfPp...</td>\n",
       "      <td>0</td>\n",
       "      <td>Variable Player Powers</td>\n",
       "      <td>2189</td>\n",
       "      <td>Bluffing, Card Game, Science Fiction</td>\n",
       "      <td>Bill Eberle, Jack Kittredge, Bill Norton, Pete...</td>\n",
       "      <td>2.3140</td>\n",
       "    </tr>\n",
       "  </tbody>\n",
       "</table>\n",
       "</div>"
      ],
      "text/plain": [
       "      rank                                            bgg_url  game_id  \\\n",
       "99     100  https://boardgamegeek.com/boardgame/39463/cosm...    39463   \n",
       "816    816  https://boardgamegeek.com/boardgame/15/cosmic-...       15   \n",
       "1381  1382  https://boardgamegeek.com/boardgame/40529/cosm...    40529   \n",
       "2340  2341  https://boardgamegeek.com/boardgame/40531/cosm...    40531   \n",
       "\n",
       "                 names  min_players  max_players  avg_time  min_time  \\\n",
       "99    Cosmic Encounter            3            5       120        60   \n",
       "816   Cosmic Encounter            2            6        90        90   \n",
       "1381  Cosmic Encounter            3            6        60        60   \n",
       "2340  Cosmic Encounter            2            4        60        60   \n",
       "\n",
       "      max_time  year  avg_rating  geek_rating  num_votes  \\\n",
       "99         120  2008     7.58087      7.42682      22001   \n",
       "816         90  1977     6.92400      6.54173       3697   \n",
       "1381        60  1991     7.18291      6.24120        912   \n",
       "2340        60  2000     6.39733      5.93775       1162   \n",
       "\n",
       "                                              image_url  age  \\\n",
       "99    https://cf.geekdo-images.com/original/img/SUTj...   12   \n",
       "816   https://cf.geekdo-images.com/original/img/5koT...   12   \n",
       "1381  https://cf.geekdo-images.com/original/img/sIhS...    0   \n",
       "2340  https://cf.geekdo-images.com/original/img/pfPp...    0   \n",
       "\n",
       "                                               mechanic  owned  \\\n",
       "99    Hand Management, Partnerships, Take That, Vari...  26591   \n",
       "816             Hand Management, Variable Player Powers   4072   \n",
       "1381                             Variable Player Powers   1350   \n",
       "2340                             Variable Player Powers   2189   \n",
       "\n",
       "                                               category  \\\n",
       "99    Bluffing, Negotiation, Science Fiction, Space ...   \n",
       "816              Bluffing, Negotiation, Science Fiction   \n",
       "1381               Bluffing, Card Game, Science Fiction   \n",
       "2340               Bluffing, Card Game, Science Fiction   \n",
       "\n",
       "                                               designer  weight  \n",
       "99    Bill Eberle, Jack Kittredge, Bill Norton, Pete...  2.5576  \n",
       "816   Bill Eberle, Jack Kittredge, Bill Norton, Pete...  2.3705  \n",
       "1381  Bill Eberle, Jack Kittredge, Bill Norton, Pete...  2.6393  \n",
       "2340  Bill Eberle, Jack Kittredge, Bill Norton, Pete...  2.3140  "
      ]
     },
     "execution_count": 7,
     "metadata": {},
     "output_type": "execute_result"
    }
   ],
   "source": [
    "data.loc[data['names']=='Cosmic Encounter',:]"
   ]
  },
  {
   "cell_type": "code",
   "execution_count": 8,
   "metadata": {
    "hidden": true
   },
   "outputs": [
    {
     "data": {
      "text/html": [
       "<div>\n",
       "<style scoped>\n",
       "    .dataframe tbody tr th:only-of-type {\n",
       "        vertical-align: middle;\n",
       "    }\n",
       "\n",
       "    .dataframe tbody tr th {\n",
       "        vertical-align: top;\n",
       "    }\n",
       "\n",
       "    .dataframe thead th {\n",
       "        text-align: right;\n",
       "    }\n",
       "</style>\n",
       "<table border=\"1\" class=\"dataframe\">\n",
       "  <thead>\n",
       "    <tr style=\"text-align: right;\">\n",
       "      <th></th>\n",
       "      <th>rank</th>\n",
       "      <th>bgg_url</th>\n",
       "      <th>game_id</th>\n",
       "      <th>names</th>\n",
       "      <th>min_players</th>\n",
       "      <th>max_players</th>\n",
       "      <th>avg_time</th>\n",
       "      <th>min_time</th>\n",
       "      <th>max_time</th>\n",
       "      <th>year</th>\n",
       "      <th>avg_rating</th>\n",
       "      <th>geek_rating</th>\n",
       "      <th>num_votes</th>\n",
       "      <th>image_url</th>\n",
       "      <th>age</th>\n",
       "      <th>mechanic</th>\n",
       "      <th>owned</th>\n",
       "      <th>category</th>\n",
       "      <th>designer</th>\n",
       "      <th>weight</th>\n",
       "    </tr>\n",
       "  </thead>\n",
       "  <tbody>\n",
       "    <tr>\n",
       "      <th>1836</th>\n",
       "      <td>1837</td>\n",
       "      <td>https://boardgamegeek.com/boardgame/37301/decktet</td>\n",
       "      <td>37301</td>\n",
       "      <td>Decktet</td>\n",
       "      <td>0</td>\n",
       "      <td>0</td>\n",
       "      <td>30</td>\n",
       "      <td>30</td>\n",
       "      <td>30</td>\n",
       "      <td>2008</td>\n",
       "      <td>7.51461</td>\n",
       "      <td>6.07096</td>\n",
       "      <td>443</td>\n",
       "      <td>https://cf.geekdo-images.com/original/img/F5Th...</td>\n",
       "      <td>0</td>\n",
       "      <td>none</td>\n",
       "      <td>1384</td>\n",
       "      <td>Card Game, Game System, Print &amp; Play</td>\n",
       "      <td>P. D. Magnus</td>\n",
       "      <td>1.9655</td>\n",
       "    </tr>\n",
       "    <tr>\n",
       "      <th>2210</th>\n",
       "      <td>2211</td>\n",
       "      <td>https://boardgamegeek.com/boardgame/18291/unpu...</td>\n",
       "      <td>18291</td>\n",
       "      <td>Unpublished Prototype</td>\n",
       "      <td>0</td>\n",
       "      <td>0</td>\n",
       "      <td>0</td>\n",
       "      <td>0</td>\n",
       "      <td>0</td>\n",
       "      <td>0</td>\n",
       "      <td>6.98141</td>\n",
       "      <td>5.96702</td>\n",
       "      <td>601</td>\n",
       "      <td>https://cf.geekdo-images.com/original/img/6hIA...</td>\n",
       "      <td>0</td>\n",
       "      <td>none</td>\n",
       "      <td>927</td>\n",
       "      <td>none</td>\n",
       "      <td>(Uncredited)</td>\n",
       "      <td>2.3750</td>\n",
       "    </tr>\n",
       "    <tr>\n",
       "      <th>2541</th>\n",
       "      <td>2542</td>\n",
       "      <td>https://boardgamegeek.com/boardgame/21804/trad...</td>\n",
       "      <td>21804</td>\n",
       "      <td>Traditional Card Games</td>\n",
       "      <td>0</td>\n",
       "      <td>0</td>\n",
       "      <td>0</td>\n",
       "      <td>0</td>\n",
       "      <td>0</td>\n",
       "      <td>0</td>\n",
       "      <td>6.54585</td>\n",
       "      <td>5.89745</td>\n",
       "      <td>705</td>\n",
       "      <td>https://cf.geekdo-images.com/original/img/MQYo...</td>\n",
       "      <td>0</td>\n",
       "      <td>none</td>\n",
       "      <td>1248</td>\n",
       "      <td>Card Game, Game System</td>\n",
       "      <td>(Uncredited)</td>\n",
       "      <td>2.0167</td>\n",
       "    </tr>\n",
       "    <tr>\n",
       "      <th>2556</th>\n",
       "      <td>2557</td>\n",
       "      <td>https://boardgamegeek.com/boardgame/23953/outs...</td>\n",
       "      <td>23953</td>\n",
       "      <td>Outside the Scope of BGG</td>\n",
       "      <td>0</td>\n",
       "      <td>0</td>\n",
       "      <td>0</td>\n",
       "      <td>0</td>\n",
       "      <td>0</td>\n",
       "      <td>0</td>\n",
       "      <td>6.75668</td>\n",
       "      <td>5.89508</td>\n",
       "      <td>518</td>\n",
       "      <td>https://cf.geekdo-images.com/original/img/0hEl...</td>\n",
       "      <td>0</td>\n",
       "      <td>none</td>\n",
       "      <td>2251</td>\n",
       "      <td>none</td>\n",
       "      <td>(Uncredited)</td>\n",
       "      <td>1.6582</td>\n",
       "    </tr>\n",
       "    <tr>\n",
       "      <th>2803</th>\n",
       "      <td>2804</td>\n",
       "      <td>https://boardgamegeek.com/boardgame/99358/ston...</td>\n",
       "      <td>99358</td>\n",
       "      <td>Stonewall Jackson's Way II</td>\n",
       "      <td>0</td>\n",
       "      <td>2</td>\n",
       "      <td>720</td>\n",
       "      <td>0</td>\n",
       "      <td>720</td>\n",
       "      <td>2013</td>\n",
       "      <td>8.47756</td>\n",
       "      <td>5.85133</td>\n",
       "      <td>156</td>\n",
       "      <td>https://cf.geekdo-images.com/original/img/ggz1...</td>\n",
       "      <td>0</td>\n",
       "      <td>Dice Rolling, Hex-and-Counter</td>\n",
       "      <td>612</td>\n",
       "      <td>American Civil War, Wargame</td>\n",
       "      <td>Joseph M. Balkoski, Ed Beach, Mike Belles, Chr...</td>\n",
       "      <td>3.7895</td>\n",
       "    </tr>\n",
       "  </tbody>\n",
       "</table>\n",
       "</div>"
      ],
      "text/plain": [
       "      rank                                            bgg_url  game_id  \\\n",
       "1836  1837  https://boardgamegeek.com/boardgame/37301/decktet    37301   \n",
       "2210  2211  https://boardgamegeek.com/boardgame/18291/unpu...    18291   \n",
       "2541  2542  https://boardgamegeek.com/boardgame/21804/trad...    21804   \n",
       "2556  2557  https://boardgamegeek.com/boardgame/23953/outs...    23953   \n",
       "2803  2804  https://boardgamegeek.com/boardgame/99358/ston...    99358   \n",
       "\n",
       "                           names  min_players  max_players  avg_time  \\\n",
       "1836                     Decktet            0            0        30   \n",
       "2210       Unpublished Prototype            0            0         0   \n",
       "2541      Traditional Card Games            0            0         0   \n",
       "2556    Outside the Scope of BGG            0            0         0   \n",
       "2803  Stonewall Jackson's Way II            0            2       720   \n",
       "\n",
       "      min_time  max_time  year  avg_rating  geek_rating  num_votes  \\\n",
       "1836        30        30  2008     7.51461      6.07096        443   \n",
       "2210         0         0     0     6.98141      5.96702        601   \n",
       "2541         0         0     0     6.54585      5.89745        705   \n",
       "2556         0         0     0     6.75668      5.89508        518   \n",
       "2803         0       720  2013     8.47756      5.85133        156   \n",
       "\n",
       "                                              image_url  age  \\\n",
       "1836  https://cf.geekdo-images.com/original/img/F5Th...    0   \n",
       "2210  https://cf.geekdo-images.com/original/img/6hIA...    0   \n",
       "2541  https://cf.geekdo-images.com/original/img/MQYo...    0   \n",
       "2556  https://cf.geekdo-images.com/original/img/0hEl...    0   \n",
       "2803  https://cf.geekdo-images.com/original/img/ggz1...    0   \n",
       "\n",
       "                           mechanic  owned  \\\n",
       "1836                           none   1384   \n",
       "2210                           none    927   \n",
       "2541                           none   1248   \n",
       "2556                           none   2251   \n",
       "2803  Dice Rolling, Hex-and-Counter    612   \n",
       "\n",
       "                                  category  \\\n",
       "1836  Card Game, Game System, Print & Play   \n",
       "2210                                  none   \n",
       "2541                Card Game, Game System   \n",
       "2556                                  none   \n",
       "2803           American Civil War, Wargame   \n",
       "\n",
       "                                               designer  weight  \n",
       "1836                                       P. D. Magnus  1.9655  \n",
       "2210                                       (Uncredited)  2.3750  \n",
       "2541                                       (Uncredited)  2.0167  \n",
       "2556                                       (Uncredited)  1.6582  \n",
       "2803  Joseph M. Balkoski, Ed Beach, Mike Belles, Chr...  3.7895  "
      ]
     },
     "execution_count": 8,
     "metadata": {},
     "output_type": "execute_result"
    }
   ],
   "source": [
    "data['min_players'].value_counts()\n",
    "data.loc[data['min_players']==0,:].head(5)"
   ]
  },
  {
   "cell_type": "markdown",
   "metadata": {},
   "source": [
    "### conclusion\n",
    "1.We drop the data of minimum number of players equal 0 which seem bad lines data <br>\n",
    "2.The same name seems different versions of game 'Cosmic Encounter'.Currently we don't have enought information for this.<br>\n",
    "3.The data is clean and do not have much missing values.Therefore we just filled the one missing values of image url"
   ]
  },
  {
   "cell_type": "markdown",
   "metadata": {},
   "source": [
    "## exploration on category"
   ]
  },
  {
   "cell_type": "markdown",
   "metadata": {},
   "source": [
    "### code"
   ]
  },
  {
   "cell_type": "code",
   "execution_count": 9,
   "metadata": {},
   "outputs": [
    {
     "name": "stdout",
     "output_type": "stream",
     "text": [
      "['Abstract Strategy' 'Action / Dexterity' 'Adventure' 'Age of Reason'\n",
      " 'American Civil War' 'American Indian Wars' 'American Revolutionary War'\n",
      " 'American West' 'Ancient' 'Animals' 'Arabian' 'Aviation / Flight'\n",
      " 'Bluffing' 'Book' 'Card Game' \"Children's Game\" 'City Building'\n",
      " 'Civil War' 'Civilization' 'Collectible Components' 'Comic Book / Strip'\n",
      " 'Deduction' 'Dice' 'Economic' 'Educational' 'Electronic' 'Environmental'\n",
      " 'Expansion for Base-game' 'Exploration' 'Fantasy' 'Farming' 'Fighting'\n",
      " 'Game System' 'Horror' 'Humor' 'Industry / Manufacturing' 'Korean War'\n",
      " 'Mafia' 'Math' 'Mature / Adult' 'Maze' 'Medical' 'Medieval' 'Memory'\n",
      " 'Miniatures' 'Modern Warfare' 'Movies / TV / Radio theme'\n",
      " 'Murder/Mystery' 'Music' 'Mythology' 'Napoleonic' 'Nautical'\n",
      " 'Negotiation' 'Novel-based' 'Number' 'Party Game' 'Pike and Shot'\n",
      " 'Pirates' 'Political' 'Post-Napoleonic' 'Prehistoric' 'Print & Play'\n",
      " 'Puzzle' 'Racing' 'Real-time' 'Religious' 'Renaissance' 'Science Fiction'\n",
      " 'Space Exploration' 'Spies/Secret Agents' 'Sports' 'Territory Building'\n",
      " 'Trains' 'Transportation' 'Travel' 'Trivia' 'Video Game Theme'\n",
      " 'Vietnam War' 'Wargame' 'Word Game' 'World War I' 'World War II'\n",
      " 'Zombies' 'none']\n",
      "84\n"
     ]
    }
   ],
   "source": [
    "total_list=[]\n",
    "for temp_list in data['category'].str.split(', '):\n",
    "    total_list+=temp_list\n",
    "print(np.unique(total_list))\n",
    "print(len(np.unique(total_list)))\n",
    "# we have 163 cateogries of game"
   ]
  },
  {
   "cell_type": "code",
   "execution_count": 10,
   "metadata": {
    "collapsed": true
   },
   "outputs": [],
   "source": [
    "from sklearn.preprocessing import MultiLabelBinarizer\n",
    "mlb = MultiLabelBinarizer()\n",
    "cat = pd.DataFrame(mlb.fit_transform(data['category'].str.split(', ')),\n",
    "                   columns=mlb.classes_,\n",
    "                   index=data.index)"
   ]
  },
  {
   "cell_type": "code",
   "execution_count": 11,
   "metadata": {
    "collapsed": true
   },
   "outputs": [],
   "source": [
    "plot_cat=cat.sum()[cat.sum()>200].sort_values()"
   ]
  },
  {
   "cell_type": "code",
   "execution_count": 12,
   "metadata": {},
   "outputs": [
    {
     "data": {
      "text/plain": [
       "Text(0,0.5,'counts')"
      ]
     },
     "execution_count": 12,
     "metadata": {},
     "output_type": "execute_result"
    }
   ],
   "source": [
    "fig, ax = plt.subplots(figsize=(8,6))\n",
    "sns.barplot(y=plot_cat,x=plot_cat.index,ax=ax)\n",
    "for item in ax.get_xticklabels():\n",
    "    item.set_rotation(65)\n",
    "ax.set_title('most categories games')\n",
    "ax.set_xlabel('name of the games')\n",
    "ax.set_ylabel('counts')"
   ]
  },
  {
   "cell_type": "code",
   "execution_count": 13,
   "metadata": {},
   "outputs": [
    {
     "data": {
      "text/html": [
       "<div>\n",
       "<style scoped>\n",
       "    .dataframe tbody tr th:only-of-type {\n",
       "        vertical-align: middle;\n",
       "    }\n",
       "\n",
       "    .dataframe tbody tr th {\n",
       "        vertical-align: top;\n",
       "    }\n",
       "\n",
       "    .dataframe thead th {\n",
       "        text-align: right;\n",
       "    }\n",
       "</style>\n",
       "<table border=\"1\" class=\"dataframe\">\n",
       "  <thead>\n",
       "    <tr style=\"text-align: right;\">\n",
       "      <th></th>\n",
       "      <th>rank</th>\n",
       "      <th>bgg_url</th>\n",
       "      <th>game_id</th>\n",
       "      <th>names</th>\n",
       "      <th>min_players</th>\n",
       "      <th>max_players</th>\n",
       "      <th>avg_time</th>\n",
       "      <th>min_time</th>\n",
       "      <th>max_time</th>\n",
       "      <th>year</th>\n",
       "      <th>...</th>\n",
       "      <th>Travel</th>\n",
       "      <th>Trivia</th>\n",
       "      <th>Video Game Theme</th>\n",
       "      <th>Vietnam War</th>\n",
       "      <th>Wargame</th>\n",
       "      <th>Word Game</th>\n",
       "      <th>World War I</th>\n",
       "      <th>World War II</th>\n",
       "      <th>Zombies</th>\n",
       "      <th>none</th>\n",
       "    </tr>\n",
       "  </thead>\n",
       "  <tbody>\n",
       "    <tr>\n",
       "      <th>0</th>\n",
       "      <td>1</td>\n",
       "      <td>https://boardgamegeek.com/boardgame/174430/glo...</td>\n",
       "      <td>174430</td>\n",
       "      <td>Gloomhaven</td>\n",
       "      <td>1</td>\n",
       "      <td>4</td>\n",
       "      <td>120</td>\n",
       "      <td>60</td>\n",
       "      <td>120</td>\n",
       "      <td>2017</td>\n",
       "      <td>...</td>\n",
       "      <td>0</td>\n",
       "      <td>0</td>\n",
       "      <td>0</td>\n",
       "      <td>0</td>\n",
       "      <td>0</td>\n",
       "      <td>0</td>\n",
       "      <td>0</td>\n",
       "      <td>0</td>\n",
       "      <td>0</td>\n",
       "      <td>0</td>\n",
       "    </tr>\n",
       "    <tr>\n",
       "      <th>1</th>\n",
       "      <td>2</td>\n",
       "      <td>https://boardgamegeek.com/boardgame/161936/pan...</td>\n",
       "      <td>161936</td>\n",
       "      <td>Pandemic Legacy: Season 1</td>\n",
       "      <td>2</td>\n",
       "      <td>4</td>\n",
       "      <td>60</td>\n",
       "      <td>60</td>\n",
       "      <td>60</td>\n",
       "      <td>2015</td>\n",
       "      <td>...</td>\n",
       "      <td>0</td>\n",
       "      <td>0</td>\n",
       "      <td>0</td>\n",
       "      <td>0</td>\n",
       "      <td>0</td>\n",
       "      <td>0</td>\n",
       "      <td>0</td>\n",
       "      <td>0</td>\n",
       "      <td>0</td>\n",
       "      <td>0</td>\n",
       "    </tr>\n",
       "    <tr>\n",
       "      <th>2</th>\n",
       "      <td>3</td>\n",
       "      <td>https://boardgamegeek.com/boardgame/182028/thr...</td>\n",
       "      <td>182028</td>\n",
       "      <td>Through the Ages: A New Story of Civilization</td>\n",
       "      <td>2</td>\n",
       "      <td>4</td>\n",
       "      <td>240</td>\n",
       "      <td>180</td>\n",
       "      <td>240</td>\n",
       "      <td>2015</td>\n",
       "      <td>...</td>\n",
       "      <td>0</td>\n",
       "      <td>0</td>\n",
       "      <td>0</td>\n",
       "      <td>0</td>\n",
       "      <td>0</td>\n",
       "      <td>0</td>\n",
       "      <td>0</td>\n",
       "      <td>0</td>\n",
       "      <td>0</td>\n",
       "      <td>0</td>\n",
       "    </tr>\n",
       "    <tr>\n",
       "      <th>3</th>\n",
       "      <td>4</td>\n",
       "      <td>https://boardgamegeek.com/boardgame/167791/ter...</td>\n",
       "      <td>167791</td>\n",
       "      <td>Terraforming Mars</td>\n",
       "      <td>1</td>\n",
       "      <td>5</td>\n",
       "      <td>120</td>\n",
       "      <td>120</td>\n",
       "      <td>120</td>\n",
       "      <td>2016</td>\n",
       "      <td>...</td>\n",
       "      <td>0</td>\n",
       "      <td>0</td>\n",
       "      <td>0</td>\n",
       "      <td>0</td>\n",
       "      <td>0</td>\n",
       "      <td>0</td>\n",
       "      <td>0</td>\n",
       "      <td>0</td>\n",
       "      <td>0</td>\n",
       "      <td>0</td>\n",
       "    </tr>\n",
       "    <tr>\n",
       "      <th>4</th>\n",
       "      <td>5</td>\n",
       "      <td>https://boardgamegeek.com/boardgame/12333/twil...</td>\n",
       "      <td>12333</td>\n",
       "      <td>Twilight Struggle</td>\n",
       "      <td>2</td>\n",
       "      <td>2</td>\n",
       "      <td>180</td>\n",
       "      <td>120</td>\n",
       "      <td>180</td>\n",
       "      <td>2005</td>\n",
       "      <td>...</td>\n",
       "      <td>0</td>\n",
       "      <td>0</td>\n",
       "      <td>0</td>\n",
       "      <td>0</td>\n",
       "      <td>1</td>\n",
       "      <td>0</td>\n",
       "      <td>0</td>\n",
       "      <td>0</td>\n",
       "      <td>0</td>\n",
       "      <td>0</td>\n",
       "    </tr>\n",
       "  </tbody>\n",
       "</table>\n",
       "<p>5 rows × 104 columns</p>\n",
       "</div>"
      ],
      "text/plain": [
       "   rank                                            bgg_url  game_id  \\\n",
       "0     1  https://boardgamegeek.com/boardgame/174430/glo...   174430   \n",
       "1     2  https://boardgamegeek.com/boardgame/161936/pan...   161936   \n",
       "2     3  https://boardgamegeek.com/boardgame/182028/thr...   182028   \n",
       "3     4  https://boardgamegeek.com/boardgame/167791/ter...   167791   \n",
       "4     5  https://boardgamegeek.com/boardgame/12333/twil...    12333   \n",
       "\n",
       "                                           names  min_players  max_players  \\\n",
       "0                                     Gloomhaven            1            4   \n",
       "1                      Pandemic Legacy: Season 1            2            4   \n",
       "2  Through the Ages: A New Story of Civilization            2            4   \n",
       "3                              Terraforming Mars            1            5   \n",
       "4                              Twilight Struggle            2            2   \n",
       "\n",
       "   avg_time  min_time  max_time  year  ...   Travel  Trivia  Video Game Theme  \\\n",
       "0       120        60       120  2017  ...        0       0                 0   \n",
       "1        60        60        60  2015  ...        0       0                 0   \n",
       "2       240       180       240  2015  ...        0       0                 0   \n",
       "3       120       120       120  2016  ...        0       0                 0   \n",
       "4       180       120       180  2005  ...        0       0                 0   \n",
       "\n",
       "  Vietnam War  Wargame Word Game  World War I World War II Zombies  none  \n",
       "0           0        0         0            0            0       0     0  \n",
       "1           0        0         0            0            0       0     0  \n",
       "2           0        0         0            0            0       0     0  \n",
       "3           0        0         0            0            0       0     0  \n",
       "4           0        1         0            0            0       0     0  \n",
       "\n",
       "[5 rows x 104 columns]"
      ]
     },
     "execution_count": 13,
     "metadata": {},
     "output_type": "execute_result"
    }
   ],
   "source": [
    "cleaned_data=pd.merge(data,cat,left_index=True,right_index=True,how='inner')\n",
    "cleaned_data.head(5)"
   ]
  },
  {
   "cell_type": "code",
   "execution_count": 14,
   "metadata": {
    "collapsed": true
   },
   "outputs": [],
   "source": [
    "cleaned_data.to_csv('./cleaned_game_data.csv',index=False)"
   ]
  },
  {
   "cell_type": "markdown",
   "metadata": {},
   "source": [
    "### conclusion"
   ]
  },
  {
   "cell_type": "markdown",
   "metadata": {},
   "source": [
    "\n",
    "1. we have 84 total cateogries of data and convert to one-hot encoding for further modeling"
   ]
  },
  {
   "cell_type": "markdown",
   "metadata": {},
   "source": [
    "# distribution plot of some variables"
   ]
  },
  {
   "cell_type": "markdown",
   "metadata": {},
   "source": [
    "## age"
   ]
  },
  {
   "cell_type": "code",
   "execution_count": 15,
   "metadata": {},
   "outputs": [
    {
     "data": {
      "text/plain": [
       "12    1393\n",
       "10    1101\n",
       "8      829\n",
       "14     533\n",
       "13     454\n",
       "0      218\n",
       "6      101\n",
       "7       83\n",
       "9       80\n",
       "15      42\n",
       "5       41\n",
       "11      31\n",
       "16      28\n",
       "18      21\n",
       "4       21\n",
       "17      12\n",
       "3        7\n",
       "21       2\n",
       "2        1\n",
       "42       1\n",
       "Name: age, dtype: int64"
      ]
     },
     "execution_count": 15,
     "metadata": {},
     "output_type": "execute_result"
    }
   ],
   "source": [
    "data['age'].value_counts()"
   ]
  },
  {
   "cell_type": "code",
   "execution_count": 22,
   "metadata": {},
   "outputs": [
    {
     "data": {
      "text/plain": [
       "300.0"
      ]
     },
     "execution_count": 22,
     "metadata": {},
     "output_type": "execute_result"
    }
   ],
   "source": [
    "data['max_time'].quantile(0.95)"
   ]
  },
  {
   "cell_type": "code",
   "execution_count": 17,
   "metadata": {},
   "outputs": [
    {
     "name": "stderr",
     "output_type": "stream",
     "text": [
      "C:\\Users\\ttodd\\Anaconda3\\lib\\site-packages\\scipy\\stats\\stats.py:1633: FutureWarning: Using a non-tuple sequence for multidimensional indexing is deprecated; use `arr[tuple(seq)]` instead of `arr[seq]`. In the future this will be interpreted as an array index, `arr[np.array(seq)]`, which will result either in an error or a different result.\n",
      "  return np.add.reduce(sorted[indexer] * weights, axis=axis) / sumval\n"
     ]
    },
    {
     "data": {
      "text/plain": [
       "<matplotlib.axes._subplots.AxesSubplot at 0x1a55aaa87f0>"
      ]
     },
     "execution_count": 17,
     "metadata": {},
     "output_type": "execute_result"
    },
    {
     "data": {
      "image/png": "[encoded data removed]",
      "text/plain": [
       "<matplotlib.figure.Figure at 0x1a558616f28>"
      ]
     },
     "metadata": {},
     "output_type": "display_data"
    }
   ],
   "source": [
    "%matplotlib inline\n",
    "sns.distplot(data['max_time'])"
   ]
  },
  {
   "cell_type": "code",
   "execution_count": 18,
   "metadata": {},
   "outputs": [
    {
     "data": {
      "text/plain": [
       "Text(0.5, 0, 'age of games')"
      ]
     },
     "execution_count": 18,
     "metadata": {},
     "output_type": "execute_result"
    },
    {
     "data": {
      "image/png": "[encoded data removed]",
      "text/plain": [
       "<Figure size 864x576 with 1 Axes>"
      ]
     },
     "metadata": {
      "needs_background": "light"
     },
     "output_type": "display_data"
    }
   ],
   "source": [
    "\n",
    "fig, ax = plt.subplots(figsize=(12,8))\n",
    "sns.distplot(data['age'][(data['age']!=42)&(data['age']!=0)],ax=ax,kde=False)\n",
    "ax.set_title('broad age distributions plot')\n",
    "ax.set_xlabel('age of games')"
   ]
  },
  {
   "cell_type": "markdown",
   "metadata": {},
   "source": [
    "## average_rating and geek rating"
   ]
  },
  {
   "cell_type": "code",
   "execution_count": 172,
   "metadata": {},
   "outputs": [
    {
     "data": {
      "text/plain": [
       "Text(0.5, 1.0, 'geek rating distribution plot')"
      ]
     },
     "execution_count": 172,
     "metadata": {},
     "output_type": "execute_result"
    },
    {
     "data": {
      "image/png": "[encoded data removed]",
      "text/plain": [
       "<Figure size 864x720 with 2 Axes>"
      ]
     },
     "metadata": {},
     "output_type": "display_data"
    }
   ],
   "source": [
    "fig, axes = plt.subplots(nrows=1, ncols=2, figsize=(12, 10))\n",
    "\n",
    "sns.distplot(data['avg_rating'],ax=axes[0])\n",
    "axes[0].set_title('average rating distribution plot')\n",
    "sns.distplot(data['geek_rating'],ax=axes[1])\n",
    "axes[1].set_title('geek rating distribution plot')"
   ]
  },
  {
   "cell_type": "markdown",
   "metadata": {},
   "source": [
    "### conclusion\n",
    "geeks are much stricker than normal users,giving scores of 5 in most of games"
   ]
  },
  {
   "cell_type": "markdown",
   "metadata": {},
   "source": [
    "# Other EDAV "
   ]
  },
  {
   "cell_type": "markdown",
   "metadata": {},
   "source": [
    "## boxplot on average rating of different category"
   ]
  },
  {
   "cell_type": "code",
   "execution_count": 24,
   "metadata": {
    "collapsed": true
   },
   "outputs": [],
   "source": [
    "cat.to_csv('./cat.csv',index=False)"
   ]
  },
  {
   "cell_type": "code",
   "execution_count": 150,
   "metadata": {
    "collapsed": true
   },
   "outputs": [],
   "source": [
    "boxplot_df=pd.merge(data['avg_rating'],cat,left_index=True,right_index=True)\n",
    "melted_boxplot=pd.melt(boxplot_df,id_vars=['avg_rating'],value_vars=np.unique(total_list),var_name='category',value_name='belong')\n",
    "melted_boxplot=melted_boxplot.loc[(melted_boxplot['belong']==1)&(melted_boxplot['category'].isin(plot_cat.index)),:]\n",
    "melted_boxplot=pd.merge(melted_boxplot,melted_boxplot.groupby('category')['avg_rating'].mean(),\n",
    "                        left_on='category',right_index=True,how='left')\n",
    "\n",
    "melted_boxplot.columns=['avg_rating','category','belong','mean_average_rating']\n",
    "melted_boxplot=melted_boxplot.sort_values('mean_average_rating',ascending=False)"
   ]
  },
  {
   "cell_type": "code",
   "execution_count": 152,
   "metadata": {},
   "outputs": [
    {
     "data": {
      "text/plain": [
       "Text(0, 0.5, 'average rating')"
      ]
     },
     "execution_count": 152,
     "metadata": {},
     "output_type": "execute_result"
    },
    {
     "data": {
      "image/png": "[encoded data removed]",
      "text/plain": [
       "<Figure size 720x576 with 1 Axes>"
      ]
     },
     "metadata": {
      "needs_background": "light"
     },
     "output_type": "display_data"
    }
   ],
   "source": [
    "fig, ax = plt.subplots(figsize=(10,8))\n",
    "sns.boxplot(y='avg_rating',x='category',data=melted_boxplot,ax=ax)\n",
    "for item in ax.get_xticklabels():\n",
    "    item.set_rotation(65)\n",
    "ax.set_title('box plot for average ratings for different category of top popular games')\n",
    "ax.set_xlabel('categories')\n",
    "ax.set_ylabel('average rating')"
   ]
  },
  {
   "cell_type": "markdown",
   "metadata": {},
   "source": [
    "### conclusion\n",
    "\n",
    "1.when we make box plot,we need unpivot dataframe by using pd.melt function ,convert columns back to stacked rows. T\n",
    "hen we sort box plot values by mean of average rating.<br>\n",
    "2.Highest ratings of games are in War game categories of those games are played most."
   ]
  },
  {
   "cell_type": "markdown",
   "metadata": {},
   "source": [
    "## heatmap"
   ]
  },
  {
   "cell_type": "code",
   "execution_count": 166,
   "metadata": {},
   "outputs": [
    {
     "data": {
      "text/plain": [
       "Index(['rank', 'bgg_url', 'game_id', 'names', 'min_players', 'max_players',\n",
       "       'avg_time', 'min_time', 'max_time', 'year', 'avg_rating', 'geek_rating',\n",
       "       'num_votes', 'image_url', 'age', 'mechanic', 'owned', 'category',\n",
       "       'designer', 'weight'],\n",
       "      dtype='object')"
      ]
     },
     "execution_count": 166,
     "metadata": {},
     "output_type": "execute_result"
    }
   ],
   "source": [
    "data.columns"
   ]
  },
  {
   "cell_type": "code",
   "execution_count": 168,
   "metadata": {},
   "outputs": [
    {
     "data": {
      "text/plain": [
       "(9, 0)"
      ]
     },
     "execution_count": 168,
     "metadata": {},
     "output_type": "execute_result"
    },
    {
     "data": {
      "image/png": "[encoded data removed]",
      "text/plain": [
       "<Figure size 864x576 with 2 Axes>"
      ]
     },
     "metadata": {},
     "output_type": "display_data"
    }
   ],
   "source": [
    "cols = ['min_players', 'max_players','min_time', 'max_time', 'avg_rating',\n",
    "        'geek_rating', 'weight',  'age','num_votes' ]\n",
    "cm = np.corrcoef(data[cols].values.T)\n",
    "fig, ax = plt.subplots(figsize=(12,8))\n",
    "\n",
    "heatmap = sns.heatmap(cm, cbar=True, annot=True, yticklabels=cols, xticklabels=cols,ax=ax)\n",
    "heatmap.set_title('Correlation between selected columns')\n",
    "ax.set_ylim([9, 0])"
   ]
  },
  {
   "cell_type": "markdown",
   "metadata": {},
   "source": [
    "### Conclusion\n",
    "Only geek correlation and averaging correlations,max time and min time have high correlations"
   ]
  }
 ],
 "metadata": {
  "kernelspec": {
   "display_name": "Python 3",
   "language": "python",
   "name": "python3"
  },
  "language_info": {
   "codemirror_mode": {
    "name": "ipython",
    "version": 3
   },
   "file_extension": ".py",
   "mimetype": "text/x-python",
   "name": "python",
   "nbconvert_exporter": "python",
   "pygments_lexer": "ipython3",
   "version": "3.6.3"
  },
  "toc": {
   "base_numbering": 1,
   "nav_menu": {},
   "number_sections": true,
   "sideBar": true,
   "skip_h1_title": false,
   "title_cell": "Table of Contents",
   "title_sidebar": "Contents",
   "toc_cell": false,
   "toc_position": {},
   "toc_section_display": true,
   "toc_window_display": false
  }
 },
 "nbformat": 4,
 "nbformat_minor": 2
}
